{
  "nbformat": 4,
  "nbformat_minor": 0,
  "metadata": {
    "colab": {
      "provenance": [],
      "include_colab_link": true
    },
    "kernelspec": {
      "name": "python3",
      "display_name": "Python 3"
    },
    "language_info": {
      "name": "python"
    }
  },
  "cells": [
    {
      "cell_type": "markdown",
      "metadata": {
        "id": "view-in-github",
        "colab_type": "text"
      },
      "source": [
        "<a href=\"https://colab.research.google.com/github/bwilli60/2025HUDS-Bootcamp/blob/main/Exit_Ticket_Print_and_DTypes.ipynb\" target=\"_parent\"><img src=\"https://colab.research.google.com/assets/colab-badge.svg\" alt=\"Open In Colab\"/></a>"
      ]
    },
    {
      "cell_type": "markdown",
      "metadata": {
        "id": "F1gmTOXrOz8o"
      },
      "source": [
        "# Data Types in Python\n",
        "\n",
        "This notebook is aimed at shedding some light on the different data types in Python. This shall form a strong foundation for your programming and Data Science journey."
      ]
    },
    {
      "cell_type": "markdown",
      "metadata": {
        "id": "7QqpOZ_eOz8s"
      },
      "source": [
        "## Numeric Data Type"
      ]
    },
    {
      "cell_type": "markdown",
      "metadata": {
        "id": "LUutoZFPOz8u"
      },
      "source": [
        "You can check the data type of an object using the `type()` command.\n",
        "The syntax looks like this: `type(variableName)`"
      ]
    },
    {
      "cell_type": "markdown",
      "source": [
        "### Your turn now.\n",
        "Store the following into three different objects and check their data types:\n",
        "* 2\n",
        "* 1086J\n",
        "* 3.14567"
      ],
      "metadata": {
        "id": "OIUTZNCXP5i5"
      }
    },
    {
      "cell_type": "code",
      "execution_count": 6,
      "metadata": {
        "id": "NDyorQr3Oz8y",
        "colab": {
          "base_uri": "https://localhost:8080/"
        },
        "outputId": "5e6767a7-3b00-4674-d824-3616b2d5cabe"
      },
      "outputs": [
        {
          "output_type": "execute_result",
          "data": {
            "text/plain": [
              "int"
            ]
          },
          "metadata": {},
          "execution_count": 6
        }
      ],
      "source": [
        "# Create an object with a value of 2\n",
        "value1 = 2\n",
        "\n",
        "# Check the data type\n",
        "type(value1)\n"
      ]
    },
    {
      "cell_type": "code",
      "execution_count": 10,
      "metadata": {
        "id": "yCnIeFx8UOQJ",
        "colab": {
          "base_uri": "https://localhost:8080/"
        },
        "outputId": "34ac0532-e40b-44ae-cde9-5b99e75531a1"
      },
      "outputs": [
        {
          "output_type": "execute_result",
          "data": {
            "text/plain": [
              "str"
            ]
          },
          "metadata": {},
          "execution_count": 10
        }
      ],
      "source": [
        "# Create an object with a value of 1086J\n",
        "value1= \"1086J\"\n",
        "\n",
        "# Check the data type\n",
        "type(value1)\n"
      ]
    },
    {
      "cell_type": "code",
      "execution_count": 16,
      "metadata": {
        "id": "QCsczuMrUOZg",
        "colab": {
          "base_uri": "https://localhost:8080/"
        },
        "outputId": "2af6ccde-4f99-4d5b-9669-196fcb1214ba"
      },
      "outputs": [
        {
          "output_type": "execute_result",
          "data": {
            "text/plain": [
              "int"
            ]
          },
          "metadata": {},
          "execution_count": 16
        }
      ],
      "source": [
        "# Create an object with a value of 3.14567\n",
        "value1= 3.14567\n",
        "\n",
        "# Check the data type\n",
        "type(value)\n"
      ]
    },
    {
      "cell_type": "markdown",
      "metadata": {
        "id": "PI5eLU4mOz80"
      },
      "source": [
        "## String Data Type"
      ]
    },
    {
      "cell_type": "markdown",
      "metadata": {
        "id": "a-eIVjF9Oz80"
      },
      "source": [
        "String Data type usually is used to store text. The data to be stored in this data type is enclosed between single ('') or double (\"\") quotes.\n",
        "Recall that you printed your name in the previous Notebook. That was string data type.\n",
        "Let's look at an example."
      ]
    },
    {
      "cell_type": "code",
      "execution_count": 19,
      "metadata": {
        "id": "dUYETGSROz80",
        "colab": {
          "base_uri": "https://localhost:8080/"
        },
        "outputId": "2f08958c-9361-4bd4-cde2-e6e6c08d6ae7"
      },
      "outputs": [
        {
          "output_type": "stream",
          "name": "stdout",
          "text": [
            "Brianna\n"
          ]
        }
      ],
      "source": [
        "# Printing your name\n",
        "My_Name = 'Brianna'\n",
        "\n",
        "# Check the results of the My_Name variable\n",
        "print(My_Name)"
      ]
    },
    {
      "cell_type": "code",
      "execution_count": 15,
      "metadata": {
        "id": "vYHxbnk8Oz81",
        "colab": {
          "base_uri": "https://localhost:8080/"
        },
        "outputId": "bb52b1a8-2922-4a05-aeef-426a490b6931"
      },
      "outputs": [
        {
          "output_type": "execute_result",
          "data": {
            "text/plain": [
              "str"
            ]
          },
          "metadata": {},
          "execution_count": 15
        }
      ],
      "source": [
        "# Check the data type of the My_Name variable\n",
        "type(My_Name)"
      ]
    },
    {
      "cell_type": "markdown",
      "source": [
        "You can combine string methods with print statements to request information from a user. This uses the `input` statement and gives users a blinking cursor to enter information.\n",
        "\n",
        "Complex print statements are also possible where it prints string text, the contents of a variable, and even perform small operations in the statement and return the results. In the example below we will create a variable called `my_name` and use the input method to ask the user to input their name. From there we can print a statement saying hello, the user's entered name, and some punctuation. In the next print statement we can use the `type()` method to print the data type of the variable `my_name`."
      ],
      "metadata": {
        "id": "8-U9oGeoR9Mb"
      }
    },
    {
      "cell_type": "code",
      "execution_count": 20,
      "metadata": {
        "id": "g138tt3WOz81",
        "colab": {
          "base_uri": "https://localhost:8080/"
        },
        "outputId": "e2943c7e-a9e2-46e9-b317-8a96b788ac0a"
      },
      "outputs": [
        {
          "output_type": "stream",
          "name": "stdout",
          "text": [
            "Please input your name Brianna\n",
            "How's it going?  Brianna !\n",
            "your name is a  <class 'str'>\n"
          ]
        }
      ],
      "source": [
        "# Your turn to play around now.\n",
        "# Use the input statement to ask a user to enter their name\n",
        "# Syntax looks like this: descriptiveVariableName = input(\"Question to be asked? \")\n",
        "my_name = input('Please input your name ')\n",
        "\n",
        "# Use a print statement to check your input. Add a greeting to your statement.\n",
        "# Syntax looks like this: print(\"Greeting\", descriptiveVariableName, \"!\")\n",
        "print(\"How's it going? \", my_name, \"!\")\n",
        "\n",
        "# Now use a print statement to tell the user the data type.\n",
        "# Syntax looks like this: print(\"Your name is a \",type(descriptiveVariableName))\n",
        "print(\"your name is a \", type(my_name))\n"
      ]
    },
    {
      "cell_type": "markdown",
      "metadata": {
        "id": "5bEdKCA0Oz81"
      },
      "source": [
        "Various functions can be performed using strings like searching within a string, conversion to lowercase/uppercase, count, length, splitting, replacing, trimming, partitioning etc."
      ]
    },
    {
      "cell_type": "code",
      "execution_count": 6,
      "metadata": {
        "id": "d3CVN5izOz81",
        "colab": {
          "base_uri": "https://localhost:8080/"
        },
        "outputId": "0b9a1351-1652-49a4-a339-1a964b4171d3"
      },
      "outputs": [
        {
          "output_type": "execute_result",
          "data": {
            "text/plain": [
              "7"
            ]
          },
          "metadata": {},
          "execution_count": 6
        }
      ],
      "source": [
        "# Let's check how many characters does your name contain.\n",
        "variable = \"Brianna\"\n",
        "# Syntax: len(variableName)\n",
        "len(\"Brianna\")"
      ]
    },
    {
      "cell_type": "code",
      "execution_count": 16,
      "metadata": {
        "id": "q-yeOolwOz82",
        "colab": {
          "base_uri": "https://localhost:8080/",
          "height": 176
        },
        "outputId": "9c67e7e8-affd-41ec-d526-1814c122357c"
      },
      "outputs": [
        {
          "output_type": "error",
          "ename": "NameError",
          "evalue": "name 'Brianna' is not defined",
          "traceback": [
            "\u001b[0;31m---------------------------------------------------------------------------\u001b[0m",
            "\u001b[0;31mNameError\u001b[0m                                 Traceback (most recent call last)",
            "\u001b[0;32m<ipython-input-16-d5a6f4a2f7c7>\u001b[0m in \u001b[0;36m<cell line: 0>\u001b[0;34m()\u001b[0m\n\u001b[1;32m      7\u001b[0m \u001b[0mcaptial\u001b[0m \u001b[0;34m=\u001b[0m \u001b[0;32mTrue\u001b[0m\u001b[0;34m\u001b[0m\u001b[0;34m\u001b[0m\u001b[0m\n\u001b[1;32m      8\u001b[0m \u001b[0;31m# Syntax: variableName.isupper()\u001b[0m\u001b[0;34m\u001b[0m\u001b[0;34m\u001b[0m\u001b[0m\n\u001b[0;32m----> 9\u001b[0;31m \u001b[0mprint\u001b[0m\u001b[0;34m(\u001b[0m\u001b[0mBrianna\u001b[0m \u001b[0;32mand\u001b[0m \u001b[0mBRIANNA\u001b[0m\u001b[0;34m)\u001b[0m\u001b[0;34m\u001b[0m\u001b[0;34m\u001b[0m\u001b[0m\n\u001b[0m",
            "\u001b[0;31mNameError\u001b[0m: name 'Brianna' is not defined"
          ]
        }
      ],
      "source": [
        "# Let's see if My_Name is all Caps or not.\n",
        "nocapital = \"Brianna\"\n",
        "capital = \"BRIANNA\"\n",
        "# isupper() returns True if all the letters are Capitals, False if atleast one letter in in lower case.\n",
        "nocapital = False\n",
        "captial = True\n",
        "# Syntax: variableName.isupper()\n",
        "print(Brianna and BRIANNA)"
      ]
    },
    {
      "cell_type": "code",
      "execution_count": 19,
      "metadata": {
        "id": "RQfxPz_KOz82",
        "colab": {
          "base_uri": "https://localhost:8080/",
          "height": 106
        },
        "outputId": "ade479ff-422a-4c1c-ab30-eec1c764b9f3"
      },
      "outputs": [
        {
          "output_type": "error",
          "ename": "IndentationError",
          "evalue": "unexpected indent (<ipython-input-19-8b27f17b0c0d>, line 5)",
          "traceback": [
            "\u001b[0;36m  File \u001b[0;32m\"<ipython-input-19-8b27f17b0c0d>\"\u001b[0;36m, line \u001b[0;32m5\u001b[0m\n\u001b[0;31m    variableName = variableName.upper(\"Brianna\")\u001b[0m\n\u001b[0m    ^\u001b[0m\n\u001b[0;31mIndentationError\u001b[0m\u001b[0;31m:\u001b[0m unexpected indent\n"
          ]
        }
      ],
      "source": [
        "# Let's convert My_Name to all caps.\n",
        "variableName = \"Brianna\"\n",
        "print(\"My_Name\")\n",
        "# Syntax: variableName = variableName.upper()\n",
        " variableName = variableName.upper(\"Brianna\")\n",
        "\n",
        "# Call the variable using the variable name.\n",
        "print(\"Brianna\")\n"
      ]
    },
    {
      "cell_type": "code",
      "execution_count": 67,
      "metadata": {
        "id": "CnxJVlo0Oz82",
        "colab": {
          "base_uri": "https://localhost:8080/"
        },
        "outputId": "f0c3c973-467f-469f-c335-96b017aa732c"
      },
      "outputs": [
        {
          "output_type": "stream",
          "name": "stdout",
          "text": [
            "BRIANNA\n"
          ]
        }
      ],
      "source": [
        "# Check the uppercase again,\n",
        "isupper = \"BRIANNA\"\n",
        "variableName = (\"Brianna\")\n",
        "# Now the output of isupper() changes to True.\n",
        "print(isupper)\n"
      ]
    },
    {
      "cell_type": "code",
      "execution_count": 58,
      "metadata": {
        "id": "HHKRD0eKOz83",
        "colab": {
          "base_uri": "https://localhost:8080/",
          "height": 228
        },
        "outputId": "38b5481d-a210-41a3-96f5-72d78c87c432"
      },
      "outputs": [
        {
          "output_type": "stream",
          "name": "stdout",
          "text": [
            "my neighbor drives a Honda \n"
          ]
        },
        {
          "output_type": "error",
          "ename": "TypeError",
          "evalue": "'str' object is not callable",
          "traceback": [
            "\u001b[0;31m---------------------------------------------------------------------------\u001b[0m",
            "\u001b[0;31mTypeError\u001b[0m                                 Traceback (most recent call last)",
            "\u001b[0;32m<ipython-input-58-8990c931d9f0>\u001b[0m in \u001b[0;36m<cell line: 0>\u001b[0;34m()\u001b[0m\n\u001b[1;32m     11\u001b[0m \u001b[0mcar\u001b[0m \u001b[0;34m=\u001b[0m \u001b[0;34m\"Honda\"\u001b[0m\u001b[0;34m\u001b[0m\u001b[0;34m\u001b[0m\u001b[0m\n\u001b[1;32m     12\u001b[0m \u001b[0mupper\u001b[0m \u001b[0;34m=\u001b[0m \u001b[0;34m\"HONDA\"\u001b[0m\u001b[0;34m\u001b[0m\u001b[0;34m\u001b[0m\u001b[0m\n\u001b[0;32m---> 13\u001b[0;31m \u001b[0mprint\u001b[0m \u001b[0;34m(\u001b[0m\u001b[0;34m\"Honda\"\u001b[0m \u001b[0;32mand\u001b[0m \u001b[0mupper\u001b[0m\u001b[0;34m(\u001b[0m\u001b[0mcar\u001b[0m\u001b[0;34m)\u001b[0m\u001b[0;34m)\u001b[0m\u001b[0;34m\u001b[0m\u001b[0;34m\u001b[0m\u001b[0m\n\u001b[0m\u001b[1;32m     14\u001b[0m \u001b[0;31m# HINT Use a print statement, your variable name, and the .upper() method\u001b[0m\u001b[0;34m\u001b[0m\u001b[0;34m\u001b[0m\u001b[0m\n\u001b[1;32m     15\u001b[0m \u001b[0;34m\u001b[0m\u001b[0m\n",
            "\u001b[0;31mTypeError\u001b[0m: 'str' object is not callable"
          ]
        }
      ],
      "source": [
        "# Your turn to try it now.\n",
        "# Write a sentence and store it into an object.\n",
        "car = \"Honda \"\n",
        "sentence = \"my neighbor drives a {car} \"\n",
        "# Don't forget quotation marks for strings\n",
        "new_sentence= \"my neighbor drives a Honda \"\n",
        "\n",
        "# Use a print statement to view your new_sentence\n",
        "print(\"my neighbor drives a \" + car)\n",
        "# Use the .upper() method in a print statement to print the upper case sentence\n",
        "car = \"Honda\"\n",
        "upper = \"HONDA\"\n",
        "print (\"Honda\" and upper(car))\n",
        "# HINT Use a print statement, your variable name, and the .upper() method\n",
        "\n",
        "\n",
        "# Use the .capitalize() method to print the sentence with the first word capitalized.\n",
        "capitalize(\"my neighbor drives a \")\n",
        "# Your turn to try it now.\n",
        "# Write a sentence and store it into an object.\n",
        "car = \"Honda \"\n",
        "sentence = \"my neighbor drives a {car} \"\n",
        "# Don't forget quotation marks for strings\n",
        "new_sentence= \"my neighbor drives a Honda \"\n",
        "\n",
        "# Use a print statement to view your new_sentence\n",
        "print(\"my neighbor drives a \" + car)\n",
        "# Use the .upper() method in a print statement to print the upper case sentence\n",
        "car = \"Honda\"\n",
        "upper = \"HONDA\"\n",
        "print(car.upper())\n",
        "# HINT Use a print statement, your variable name, and the .upper() method\n",
        "\n",
        "\n",
        "# Use the .capitalize() method to print the sentence with the first word capitalized.\n",
        "print(\"my neighbor drives a \".capitalize(my))\n",
        "# Your turn to try it now.\n",
        "# Write a sentence and store it into an object.\n",
        "car = \"Honda \"\n",
        "sentence = \"my neighbor drives a {car} \"\n",
        "# Don't forget quotation marks for strings\n",
        "new_sentence= \"my neighbor drives a Honda \"\n",
        "\n",
        "# Use a print statement to view your new_sentence\n",
        "print(\"my neighbor drives a \" + car)\n",
        "# Use the .upper() method in a print statement to print the upper case sentence\n",
        "car = \"Honda\"\n",
        "upper = \"HONDA\"\n",
        "print(car.upper())\n",
        "# HINT Use a print statement, your variable name, and the .upper() method\n",
        "\n",
        "\n",
        "# Use the .capitalize() method to print the sentence with the first word capitalized.\n",
        "print(\"my neighbor drives a \".capitalize())\n",
        "\n",
        "# Use the .title() method to print the sentence with the first letter of each word capitalized.\n",
        "print(\"my neighbor drives a \".title())"
      ]
    },
    {
      "cell_type": "code",
      "execution_count": 45,
      "metadata": {
        "id": "_RU2iVcdOz83",
        "colab": {
          "base_uri": "https://localhost:8080/",
          "height": 176
        },
        "outputId": "1127323e-c9ab-46e1-87f9-67216fc5b84b"
      },
      "outputs": [
        {
          "output_type": "error",
          "ename": "TypeError",
          "evalue": "'str' object is not callable",
          "traceback": [
            "\u001b[0;31m---------------------------------------------------------------------------\u001b[0m",
            "\u001b[0;31mTypeError\u001b[0m                                 Traceback (most recent call last)",
            "\u001b[0;32m<ipython-input-45-2a89e2eef3a6>\u001b[0m in \u001b[0;36m<cell line: 0>\u001b[0;34m()\u001b[0m\n\u001b[1;32m      1\u001b[0m \u001b[0;31m# Check the data type of the object you just created.\u001b[0m\u001b[0;34m\u001b[0m\u001b[0;34m\u001b[0m\u001b[0m\n\u001b[1;32m      2\u001b[0m \u001b[0mcar\u001b[0m \u001b[0;34m=\u001b[0m \u001b[0;34m\"Honda\"\u001b[0m\u001b[0;34m\u001b[0m\u001b[0;34m\u001b[0m\u001b[0m\n\u001b[0;32m----> 3\u001b[0;31m \u001b[0mtype\u001b[0m\u001b[0;34m(\u001b[0m\u001b[0mupper\u001b[0m\u001b[0;34m(\u001b[0m\u001b[0mcar\u001b[0m\u001b[0;34m)\u001b[0m\u001b[0;34m)\u001b[0m\u001b[0;34m\u001b[0m\u001b[0;34m\u001b[0m\u001b[0m\n\u001b[0m",
            "\u001b[0;31mTypeError\u001b[0m: 'str' object is not callable"
          ]
        }
      ],
      "source": [
        "# Check the data type of the object you just created.\n",
        "car = \"Honda\"\n",
        "type(upper(car))"
      ]
    },
    {
      "cell_type": "code",
      "execution_count": 46,
      "metadata": {
        "id": "zTwyEacgOz83",
        "colab": {
          "base_uri": "https://localhost:8080/"
        },
        "outputId": "f04d8930-9232-43b9-8180-1b1ae9a3a635"
      },
      "outputs": [
        {
          "output_type": "stream",
          "name": "stdout",
          "text": [
            "False\n"
          ]
        }
      ],
      "source": [
        "# Check if it is all caps or not.\n",
        "HONDA = True\n",
        "Honda = False\n",
        "honda = False\n",
        "# Syntax: variableName.isupper()\n",
        "print (HONDA and Honda and honda)\n"
      ]
    },
    {
      "cell_type": "code",
      "execution_count": 47,
      "metadata": {
        "id": "OFuwYxoHOz83",
        "colab": {
          "base_uri": "https://localhost:8080/"
        },
        "outputId": "343715cf-f7ca-4f63-b1cb-5a250fda0a4e"
      },
      "outputs": [
        {
          "output_type": "stream",
          "name": "stdout",
          "text": [
            "False\n"
          ]
        }
      ],
      "source": [
        "# Challenge - Check if it is all lower case or not.\n",
        "honda = True\n",
        "Honda = False\n",
        "HONDA = False\n",
        "# Use the example above to complete the challenge question\n",
        "print(honda and Honda and HONDA)"
      ]
    },
    {
      "cell_type": "code",
      "execution_count": 51,
      "metadata": {
        "id": "gQTsgka1Oz84"
      },
      "outputs": [],
      "source": [
        "# Challenge - Convert your object into all caps.\n",
        "isupper = \"HONDA\"\n",
        "isupper = True"
      ]
    },
    {
      "cell_type": "code",
      "execution_count": 64,
      "metadata": {
        "id": "FfURhkuaOz84",
        "colab": {
          "base_uri": "https://localhost:8080/"
        },
        "outputId": "cbe1cc42-4ead-4043-cbd0-608ed998e938"
      },
      "outputs": [
        {
          "output_type": "stream",
          "name": "stdout",
          "text": [
            "honda\n"
          ]
        }
      ],
      "source": [
        "# Challenge - Convert your object into all lower case.\n",
        "text = \"HONDA\"\n",
        "lower_text = (\"honda\")\n",
        "print(lower_text)"
      ]
    },
    {
      "cell_type": "markdown",
      "metadata": {
        "id": "zpLbuwP6Oz84"
      },
      "source": [
        "## Boolean Data Type"
      ]
    },
    {
      "cell_type": "markdown",
      "metadata": {
        "id": "IXJ4iCMgOz84"
      },
      "source": [
        "The boolean data type has just two values, i.e., True or False."
      ]
    },
    {
      "cell_type": "code",
      "execution_count": 69,
      "metadata": {
        "id": "Qzolj8lPOz85",
        "colab": {
          "base_uri": "https://localhost:8080/"
        },
        "outputId": "b5ad6ad8-07c1-4c72-ae78-2e12cdf9097f"
      },
      "outputs": [
        {
          "output_type": "stream",
          "name": "stdout",
          "text": [
            "False\n"
          ]
        }
      ],
      "source": [
        "# Create two variables, one with a value of True, one with a value of False\n",
        "Bluesky = True\n",
        "Purplesky = False\n",
        "print(Bluesky and Purplesky)"
      ]
    },
    {
      "cell_type": "code",
      "execution_count": 70,
      "metadata": {
        "id": "53_SQLshOz85",
        "colab": {
          "base_uri": "https://localhost:8080/"
        },
        "outputId": "4f63603c-6a72-4d9a-fcbc-e2daec31722f"
      },
      "outputs": [
        {
          "output_type": "execute_result",
          "data": {
            "text/plain": [
              "bool"
            ]
          },
          "metadata": {},
          "execution_count": 70
        }
      ],
      "source": [
        "# Check the data type of your new variables\n",
        "Bluesky = True\n",
        "Purplesky = False\n",
        "# HINT: you can check multiple items by separating the statements with a comma\n",
        "type(Bluesky)\n",
        "type(Purplesky)\n"
      ]
    },
    {
      "cell_type": "markdown",
      "metadata": {
        "id": "JnXKU29fOz85"
      },
      "source": [
        "## Data Type Conversions"
      ]
    },
    {
      "cell_type": "markdown",
      "metadata": {
        "id": "xxFOfebXOz85"
      },
      "source": [
        "As explained earlier, data should be stored in correct form so that it can be manipulated efficiently later.\n",
        "Quite a lot of times, data is not stored correctly or it gets imported incorrectly.\n",
        "In such cases, data needs to be converted to its correct type so that it can be optimally used in our analysis.\n",
        "Thus, let's look at data type conversion exercises to get you comfortable with the process."
      ]
    },
    {
      "cell_type": "code",
      "execution_count": 71,
      "metadata": {
        "id": "8aGHMkW7Oz86",
        "colab": {
          "base_uri": "https://localhost:8080/"
        },
        "outputId": "4d90cd7f-72af-4300-c6ff-969cc80b7107"
      },
      "outputs": [
        {
          "output_type": "stream",
          "name": "stdout",
          "text": [
            "7\n"
          ]
        }
      ],
      "source": [
        "# Create an object containing an integer.\n",
        "pooldepth = 7\n",
        "print(pooldepth)"
      ]
    },
    {
      "cell_type": "code",
      "execution_count": 72,
      "metadata": {
        "id": "-dQdECzdOz86",
        "colab": {
          "base_uri": "https://localhost:8080/"
        },
        "outputId": "69dd48da-87b7-4628-ae0a-0203103adf99"
      },
      "outputs": [
        {
          "output_type": "execute_result",
          "data": {
            "text/plain": [
              "int"
            ]
          },
          "metadata": {},
          "execution_count": 72
        }
      ],
      "source": [
        "# Check the data type of your new object\n",
        "pooldepth = 7\n",
        "type(pooldepth)"
      ]
    },
    {
      "cell_type": "code",
      "execution_count": 73,
      "metadata": {
        "id": "T30wagKUOz86"
      },
      "outputs": [],
      "source": [
        "# You want to use the value 1 as text. So let's convert it.\n",
        "variableName= 1\n",
        "# Syntax: variableName = str(variableName)\n",
        "variableName = str(1)\n"
      ]
    },
    {
      "cell_type": "code",
      "execution_count": 74,
      "metadata": {
        "id": "FMEvdM1WOz86",
        "colab": {
          "base_uri": "https://localhost:8080/"
        },
        "outputId": "c7a33177-eb46-4f26-8937-ac96d967290e"
      },
      "outputs": [
        {
          "output_type": "execute_result",
          "data": {
            "text/plain": [
              "int"
            ]
          },
          "metadata": {},
          "execution_count": 74
        }
      ],
      "source": [
        "# Check the data type of your new object again.\n",
        "variableName= 1\n",
        "type(variableName)"
      ]
    },
    {
      "cell_type": "markdown",
      "source": [
        "# Personal Notes\n",
        "* **I originally got an error message becuase I did nto add quotes around the numbr set**"
      ],
      "metadata": {
        "id": "bT32hzuTsz6B"
      }
    },
    {
      "cell_type": "code",
      "execution_count": 77,
      "metadata": {
        "id": "8j-uQXBaOz9S",
        "colab": {
          "base_uri": "https://localhost:8080/"
        },
        "outputId": "525b4f5b-d9ef-430b-f320-ec709ee70998"
      },
      "outputs": [
        {
          "output_type": "stream",
          "name": "stdout",
          "text": [
            "123456\n"
          ]
        },
        {
          "output_type": "execute_result",
          "data": {
            "text/plain": [
              "str"
            ]
          },
          "metadata": {},
          "execution_count": 77
        }
      ],
      "source": [
        "# Exercise for you. Store the number 123456 as string.\n",
        "numberline = \"123456\"\n",
        "print(numberline)\n",
        "# Check the data type\n",
        "type(numberline)\n"
      ]
    },
    {
      "cell_type": "code",
      "execution_count": 79,
      "metadata": {
        "id": "b5CuVvSQOz9T",
        "colab": {
          "base_uri": "https://localhost:8080/"
        },
        "outputId": "d92310cf-9bb5-406d-f25a-caf9950d3376"
      },
      "outputs": [
        {
          "output_type": "stream",
          "name": "stdout",
          "text": [
            "2700\n"
          ]
        },
        {
          "output_type": "execute_result",
          "data": {
            "text/plain": [
              "str"
            ]
          },
          "metadata": {},
          "execution_count": 79
        }
      ],
      "source": [
        "# Let's do the opposite now.\n",
        "# Create a variable and assign a numeric value as a string\n",
        "variable1 = \"2700\"\n",
        "print(variable1)\n",
        "# HINT: Any value inside of quotes is a string\n",
        "\n",
        "# Check the data type of your variable\n",
        "type(variable1)\n"
      ]
    },
    {
      "cell_type": "code",
      "execution_count": 81,
      "metadata": {
        "id": "uomNdG-OOz9T",
        "colab": {
          "base_uri": "https://localhost:8080/"
        },
        "outputId": "e6d40d97-4cdb-416f-e5c8-bbe86b5b470c"
      },
      "outputs": [
        {
          "output_type": "execute_result",
          "data": {
            "text/plain": [
              "int"
            ]
          },
          "metadata": {},
          "execution_count": 81
        }
      ],
      "source": [
        "# Let's learn to convert string to integer now.\n",
        "# Syntax: variableName = int(variableName)\n",
        "motorcycle = int(\"3700\")\n",
        "# Check the data type\n",
        "type(motorcycle)\n"
      ]
    },
    {
      "cell_type": "code",
      "execution_count": 82,
      "metadata": {
        "id": "p6c6Oj-oOz9T",
        "colab": {
          "base_uri": "https://localhost:8080/"
        },
        "outputId": "50f90f5f-c1c5-4add-b93a-166df9b748f3"
      },
      "outputs": [
        {
          "output_type": "execute_result",
          "data": {
            "text/plain": [
              "float"
            ]
          },
          "metadata": {},
          "execution_count": 82
        }
      ],
      "source": [
        "# Let's convert a string to a float.\n",
        "# Syntax: variableName = float(variableName)\n",
        "houses = float(12)\n",
        "# Check the data type\n",
        "type(houses)"
      ]
    },
    {
      "cell_type": "markdown",
      "metadata": {
        "id": "9QBKh6rWOz9U"
      },
      "source": [
        "Good job so far!\n",
        "You can also try converting strings to boolean and vice versa.\n",
        "You could also try conversions from integers to float and float to integer.\n",
        "\n",
        "Python is an intuitive language, so by default it stores data into correct formats.\n",
        "But very often we come across data being stored incorrectly especially while importing."
      ]
    }
  ]
}